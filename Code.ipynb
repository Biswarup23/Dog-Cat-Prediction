{
 "cells": [
  {
   "cell_type": "code",
   "execution_count": 96,
   "id": "72fe1cf2",
   "metadata": {},
   "outputs": [],
   "source": [
    "import tensorflow as tf\n",
    "from keras.preprocessing.image import ImageDataGenerator"
   ]
  },
  {
   "cell_type": "code",
   "execution_count": 97,
   "id": "a847ece2",
   "metadata": {},
   "outputs": [
    {
     "data": {
      "text/plain": [
       "'D:\\\\Jupyter Notebook\\\\Dog cat Prediction'"
      ]
     },
     "execution_count": 97,
     "metadata": {},
     "output_type": "execute_result"
    }
   ],
   "source": [
    "os.getcwd()"
   ]
  },
  {
   "cell_type": "code",
   "execution_count": null,
   "id": "6ad1021e",
   "metadata": {},
   "outputs": [],
   "source": [
    "#Preprocessing the training set "
   ]
  },
  {
   "cell_type": "code",
   "execution_count": 98,
   "id": "9ddee2d4",
   "metadata": {},
   "outputs": [],
   "source": [
    "train_datagen = ImageDataGenerator(rescale = 1./255,\n",
    "                                   shear_range = 0.2,\n",
    "                                   zoom_range = 0.2,\n",
    "                                   horizontal_flip = True)"
   ]
  },
  {
   "cell_type": "code",
   "execution_count": null,
   "id": "6fc52edb",
   "metadata": {},
   "outputs": [],
   "source": [
    "#Preprocessing the Test set"
   ]
  },
  {
   "cell_type": "code",
   "execution_count": 99,
   "id": "719be94f",
   "metadata": {},
   "outputs": [
    {
     "name": "stdout",
     "output_type": "stream",
     "text": [
      "Found 8000 images belonging to 2 classes.\n"
     ]
    }
   ],
   "source": [
    "training_set = train_datagen.flow_from_directory('D:\\\\Jupyter Notebook\\\\Dog cat Prediction\\\\dogs_cats\\\\training_set',\n",
    "                                                 target_size = (64, 64),\n",
    "                                                 batch_size = 32,\n",
    "                                                 class_mode = 'binary')"
   ]
  },
  {
   "cell_type": "code",
   "execution_count": 100,
   "id": "fe72ba7a",
   "metadata": {},
   "outputs": [],
   "source": [
    "test_datagen=ImageDataGenerator(rescale=1./255)"
   ]
  },
  {
   "cell_type": "code",
   "execution_count": 101,
   "id": "48796f82",
   "metadata": {},
   "outputs": [
    {
     "name": "stdout",
     "output_type": "stream",
     "text": [
      "Found 2000 images belonging to 2 classes.\n"
     ]
    }
   ],
   "source": [
    "testing_set = train_datagen.flow_from_directory('D:\\\\Jupyter Notebook\\\\Dog cat Prediction\\\\dogs_cats\\\\test_set',\n",
    "                                                 target_size = (64, 64),\n",
    "                                                 batch_size = 32,\n",
    "                                                 class_mode = 'binary')"
   ]
  },
  {
   "cell_type": "code",
   "execution_count": 102,
   "id": "cd249825",
   "metadata": {},
   "outputs": [],
   "source": [
    "cnn=tf.keras.models.Sequential()"
   ]
  },
  {
   "cell_type": "code",
   "execution_count": 103,
   "id": "8c72a94d",
   "metadata": {},
   "outputs": [],
   "source": [
    "cnn.add(tf.keras.layers.Conv2D(filters=32,\n",
    "                               kernel_size=3,\n",
    "                               activation='relu',\n",
    "                               input_shape=[64,64,3]))"
   ]
  },
  {
   "cell_type": "code",
   "execution_count": 104,
   "id": "a8da7f45",
   "metadata": {},
   "outputs": [],
   "source": [
    "cnn.add(tf.keras.layers.MaxPool2D(pool_size=2,\n",
    "                                  strides=2))"
   ]
  },
  {
   "cell_type": "code",
   "execution_count": 105,
   "id": "4f6bee09",
   "metadata": {},
   "outputs": [],
   "source": [
    "cnn.add(tf.keras.layers.Conv2D(filters=32, \n",
    "                               kernel_size=3, \n",
    "                               activation='relu'))"
   ]
  },
  {
   "cell_type": "code",
   "execution_count": 106,
   "id": "24113777",
   "metadata": {},
   "outputs": [],
   "source": [
    "cnn.add(tf.keras.layers.MaxPool2D(pool_size=2, \n",
    "                                  strides=2))"
   ]
  },
  {
   "cell_type": "code",
   "execution_count": 107,
   "id": "4bf93bb5",
   "metadata": {},
   "outputs": [],
   "source": [
    "cnn.add(tf.keras.layers.Flatten())"
   ]
  },
  {
   "cell_type": "code",
   "execution_count": 108,
   "id": "4ab7afa7",
   "metadata": {},
   "outputs": [],
   "source": [
    "cnn.add(tf.keras.layers.Dense(units=128,\n",
    "                              activation='relu'))"
   ]
  },
  {
   "cell_type": "code",
   "execution_count": 109,
   "id": "8ba30a80",
   "metadata": {},
   "outputs": [],
   "source": [
    "cnn.add(tf.keras.layers.Dense(units=1,\n",
    "                              activation='sigmoid'))"
   ]
  },
  {
   "cell_type": "code",
   "execution_count": 110,
   "id": "aa87ec99",
   "metadata": {},
   "outputs": [],
   "source": [
    "cnn.compile(optimizer='adam', \n",
    "            loss = 'binary_crossentropy', \n",
    "            metrics = ['accuracy'])"
   ]
  },
  {
   "cell_type": "code",
   "execution_count": 115,
   "id": "d3536206",
   "metadata": {},
   "outputs": [
    {
     "name": "stdout",
     "output_type": "stream",
     "text": [
      "Epoch 1/20\n",
      "250/250 [==============================] - 126s 498ms/step - loss: 0.6707 - accuracy: 0.5769 - val_loss: 0.6222 - val_accuracy: 0.6605\n",
      "Epoch 2/20\n",
      "250/250 [==============================] - 45s 179ms/step - loss: 0.6031 - accuracy: 0.6760 - val_loss: 0.5997 - val_accuracy: 0.6815\n",
      "Epoch 3/20\n",
      "250/250 [==============================] - 44s 178ms/step - loss: 0.5689 - accuracy: 0.7029 - val_loss: 0.5290 - val_accuracy: 0.7485\n",
      "Epoch 4/20\n",
      "250/250 [==============================] - 43s 172ms/step - loss: 0.5314 - accuracy: 0.7320 - val_loss: 0.5266 - val_accuracy: 0.7400\n",
      "Epoch 5/20\n",
      "250/250 [==============================] - 48s 191ms/step - loss: 0.5100 - accuracy: 0.7466 - val_loss: 0.5139 - val_accuracy: 0.7590\n",
      "Epoch 6/20\n",
      "250/250 [==============================] - 46s 183ms/step - loss: 0.4748 - accuracy: 0.7734 - val_loss: 0.5144 - val_accuracy: 0.7485\n",
      "Epoch 7/20\n",
      "250/250 [==============================] - 43s 174ms/step - loss: 0.4797 - accuracy: 0.7669 - val_loss: 0.4892 - val_accuracy: 0.7795\n",
      "Epoch 8/20\n",
      "250/250 [==============================] - 45s 181ms/step - loss: 0.4548 - accuracy: 0.7829 - val_loss: 0.4813 - val_accuracy: 0.7830\n",
      "Epoch 9/20\n",
      "250/250 [==============================] - 45s 179ms/step - loss: 0.4393 - accuracy: 0.7975 - val_loss: 0.4651 - val_accuracy: 0.7820\n",
      "Epoch 10/20\n",
      "250/250 [==============================] - 45s 178ms/step - loss: 0.4247 - accuracy: 0.7989 - val_loss: 0.4740 - val_accuracy: 0.7755\n",
      "Epoch 11/20\n",
      "250/250 [==============================] - 45s 179ms/step - loss: 0.4132 - accuracy: 0.8119 - val_loss: 0.5296 - val_accuracy: 0.7615\n",
      "Epoch 12/20\n",
      "250/250 [==============================] - 47s 189ms/step - loss: 0.3964 - accuracy: 0.8165 - val_loss: 0.4719 - val_accuracy: 0.7865\n",
      "Epoch 13/20\n",
      "250/250 [==============================] - 47s 186ms/step - loss: 0.3811 - accuracy: 0.8263 - val_loss: 0.4819 - val_accuracy: 0.7820\n",
      "Epoch 14/20\n",
      "250/250 [==============================] - 48s 193ms/step - loss: 0.3739 - accuracy: 0.8322 - val_loss: 0.4632 - val_accuracy: 0.7860\n",
      "Epoch 15/20\n",
      "250/250 [==============================] - 52s 208ms/step - loss: 0.3551 - accuracy: 0.8440 - val_loss: 0.4517 - val_accuracy: 0.8035\n",
      "Epoch 16/20\n",
      "250/250 [==============================] - 47s 187ms/step - loss: 0.3440 - accuracy: 0.8512 - val_loss: 0.4586 - val_accuracy: 0.7965\n",
      "Epoch 17/20\n",
      "250/250 [==============================] - 47s 190ms/step - loss: 0.3312 - accuracy: 0.8540 - val_loss: 0.4564 - val_accuracy: 0.7920\n",
      "Epoch 18/20\n",
      "250/250 [==============================] - 47s 187ms/step - loss: 0.3073 - accuracy: 0.8644 - val_loss: 0.4757 - val_accuracy: 0.8050\n",
      "Epoch 19/20\n",
      "250/250 [==============================] - 45s 181ms/step - loss: 0.2930 - accuracy: 0.8710 - val_loss: 0.5046 - val_accuracy: 0.7720\n",
      "Epoch 20/20\n",
      "250/250 [==============================] - 46s 185ms/step - loss: 0.2847 - accuracy: 0.8763 - val_loss: 0.4656 - val_accuracy: 0.8005\n"
     ]
    },
    {
     "data": {
      "text/plain": [
       "<keras.callbacks.History at 0x203ec4f2850>"
      ]
     },
     "execution_count": 115,
     "metadata": {},
     "output_type": "execute_result"
    }
   ],
   "source": [
    "cnn.fit(training_set,\n",
    "        validation_data=testing_set,\n",
    "        epochs=20)"
   ]
  },
  {
   "cell_type": "code",
   "execution_count": 120,
   "id": "6afc0f04",
   "metadata": {},
   "outputs": [],
   "source": [
    "import numpy as np\n",
    "from tensorflow.keras.preprocessing import image"
   ]
  },
  {
   "cell_type": "code",
   "execution_count": 124,
   "id": "0b7cdf20",
   "metadata": {},
   "outputs": [],
   "source": [
    "test_image=image.load_img('D:/Jupyter Notebook/Dog cat Prediction/dogs_cats/single_prediction/cat_dog.jpg',\n",
    "                         target_size=(64,64))\n",
    "test_image = image.img_to_array(test_image)\n",
    "test_image = np.expand_dims(test_image, axis = 0)"
   ]
  },
  {
   "cell_type": "code",
   "execution_count": 125,
   "id": "b503ba45",
   "metadata": {},
   "outputs": [
    {
     "name": "stdout",
     "output_type": "stream",
     "text": [
      "1/1 [==============================] - 0s 30ms/step\n",
      "It is a cat\n"
     ]
    }
   ],
   "source": [
    "result = cnn.predict(test_image)\n",
    "training_set.class_indices\n",
    "if result[0][0] == 1:\n",
    "  print(\"It is a dog\")\n",
    "else:\n",
    "  print(\"It is a cat\")"
   ]
  },
  {
   "cell_type": "code",
   "execution_count": 126,
   "id": "1b0ea91b",
   "metadata": {},
   "outputs": [
    {
     "name": "stdout",
     "output_type": "stream",
     "text": [
      "[[0.]]\n"
     ]
    }
   ],
   "source": [
    "print(result)"
   ]
  },
  {
   "cell_type": "code",
   "execution_count": null,
   "id": "120e0fb3",
   "metadata": {},
   "outputs": [],
   "source": []
  },
  {
   "cell_type": "code",
   "execution_count": null,
   "id": "ef403cbf",
   "metadata": {},
   "outputs": [],
   "source": []
  }
 ],
 "metadata": {
  "kernelspec": {
   "display_name": "Python 3 (ipykernel)",
   "language": "python",
   "name": "python3"
  },
  "language_info": {
   "codemirror_mode": {
    "name": "ipython",
    "version": 3
   },
   "file_extension": ".py",
   "mimetype": "text/x-python",
   "name": "python",
   "nbconvert_exporter": "python",
   "pygments_lexer": "ipython3",
   "version": "3.9.5"
  }
 },
 "nbformat": 4,
 "nbformat_minor": 5
}
